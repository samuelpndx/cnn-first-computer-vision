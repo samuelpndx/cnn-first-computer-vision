{
 "cells": [
  {
   "cell_type": "code",
   "execution_count": 1,
   "id": "007c0be0",
   "metadata": {
    "_cell_guid": "b1076dfc-b9ad-4769-8c92-a6c4dae69d19",
    "_uuid": "8f2839f25d086af736a60e9eeb907d3b93b6e0e5",
    "execution": {
     "iopub.execute_input": "2025-02-13T19:49:11.026634Z",
     "iopub.status.busy": "2025-02-13T19:49:11.026296Z",
     "iopub.status.idle": "2025-02-13T19:49:11.906523Z",
     "shell.execute_reply": "2025-02-13T19:49:11.905620Z"
    },
    "papermill": {
     "duration": 0.887046,
     "end_time": "2025-02-13T19:49:11.908347",
     "exception": false,
     "start_time": "2025-02-13T19:49:11.021301",
     "status": "completed"
    },
    "tags": []
   },
   "outputs": [],
   "source": [
    "# This Python 3 environment comes with many helpful analytics libraries installed\n",
    "# It is defined by the kaggle/python Docker image: https://github.com/kaggle/docker-python\n",
    "# For example, here's several helpful packages to load\n",
    "\n",
    "import numpy as np # linear algebra\n",
    "import pandas as pd # data processing, CSV file I/O (e.g. pd.read_csv)\n",
    "\n",
    "# Input data files are available in the read-only \"../input/\" directory\n",
    "# For example, running this (by clicking run or pressing Shift+Enter) will list all files under the input directory\n",
    "\n",
    "import os\n",
    "for dirname, _, filenames in os.walk('/kaggle/input'):\n",
    "    for filename in filenames:\n",
    "        print(os.path.join(dirname, filename))\n",
    "\n",
    "# You can write up to 20GB to the current directory (/kaggle/working/) that gets preserved as output when you create a version using \"Save & Run All\" \n",
    "# You can also write temporary files to /kaggle/temp/, but they won't be saved outside of the current session"
   ]
  },
  {
   "cell_type": "code",
   "execution_count": 2,
   "id": "f68e3262",
   "metadata": {
    "execution": {
     "iopub.execute_input": "2025-02-13T19:49:11.916728Z",
     "iopub.status.busy": "2025-02-13T19:49:11.916237Z",
     "iopub.status.idle": "2025-02-13T19:49:27.024666Z",
     "shell.execute_reply": "2025-02-13T19:49:27.023490Z"
    },
    "papermill": {
     "duration": 15.114369,
     "end_time": "2025-02-13T19:49:27.026501",
     "exception": false,
     "start_time": "2025-02-13T19:49:11.912132",
     "status": "completed"
    },
    "tags": []
   },
   "outputs": [],
   "source": [
    "import tensorflow as tf\n",
    "import numpy as np\n",
    "import matplotlib.pyplot as plt"
   ]
  },
  {
   "cell_type": "code",
   "execution_count": 3,
   "id": "c3fbc225",
   "metadata": {
    "execution": {
     "iopub.execute_input": "2025-02-13T19:49:27.034650Z",
     "iopub.status.busy": "2025-02-13T19:49:27.034051Z",
     "iopub.status.idle": "2025-02-13T19:49:27.109077Z",
     "shell.execute_reply": "2025-02-13T19:49:27.108015Z"
    },
    "papermill": {
     "duration": 0.081147,
     "end_time": "2025-02-13T19:49:27.111122",
     "exception": false,
     "start_time": "2025-02-13T19:49:27.029975",
     "status": "completed"
    },
    "tags": []
   },
   "outputs": [],
   "source": [
    "# Load the Fashion MNIST dataset\n",
    "fmnist = tf.keras.datasets.fashion_mnist"
   ]
  },
  {
   "cell_type": "code",
   "execution_count": 4,
   "id": "88c02b37",
   "metadata": {
    "execution": {
     "iopub.execute_input": "2025-02-13T19:49:27.118923Z",
     "iopub.status.busy": "2025-02-13T19:49:27.118534Z",
     "iopub.status.idle": "2025-02-13T19:49:28.052622Z",
     "shell.execute_reply": "2025-02-13T19:49:28.051617Z"
    },
    "papermill": {
     "duration": 0.940088,
     "end_time": "2025-02-13T19:49:28.054540",
     "exception": false,
     "start_time": "2025-02-13T19:49:27.114452",
     "status": "completed"
    },
    "tags": []
   },
   "outputs": [
    {
     "name": "stdout",
     "output_type": "stream",
     "text": [
      "Downloading data from https://storage.googleapis.com/tensorflow/tf-keras-datasets/train-labels-idx1-ubyte.gz\n",
      "\u001b[1m29515/29515\u001b[0m \u001b[32m━━━━━━━━━━━━━━━━━━━━\u001b[0m\u001b[37m\u001b[0m \u001b[1m0s\u001b[0m 0us/step\n",
      "Downloading data from https://storage.googleapis.com/tensorflow/tf-keras-datasets/train-images-idx3-ubyte.gz\n",
      "\u001b[1m26421880/26421880\u001b[0m \u001b[32m━━━━━━━━━━━━━━━━━━━━\u001b[0m\u001b[37m\u001b[0m \u001b[1m0s\u001b[0m 0us/step\n",
      "Downloading data from https://storage.googleapis.com/tensorflow/tf-keras-datasets/t10k-labels-idx1-ubyte.gz\n",
      "\u001b[1m5148/5148\u001b[0m \u001b[32m━━━━━━━━━━━━━━━━━━━━\u001b[0m\u001b[37m\u001b[0m \u001b[1m0s\u001b[0m 0us/step\n",
      "Downloading data from https://storage.googleapis.com/tensorflow/tf-keras-datasets/t10k-images-idx3-ubyte.gz\n",
      "\u001b[1m4422102/4422102\u001b[0m \u001b[32m━━━━━━━━━━━━━━━━━━━━\u001b[0m\u001b[37m\u001b[0m \u001b[1m0s\u001b[0m 0us/step\n"
     ]
    }
   ],
   "source": [
    "# Load the training and test split of the Fashion MNIST dataset\n",
    "(training_images, training_labels), (test_images, test_labels) = fmnist.load_data()"
   ]
  },
  {
   "cell_type": "code",
   "execution_count": 5,
   "id": "5456dddd",
   "metadata": {
    "execution": {
     "iopub.execute_input": "2025-02-13T19:49:28.064197Z",
     "iopub.status.busy": "2025-02-13T19:49:28.063858Z",
     "iopub.status.idle": "2025-02-13T19:49:28.433259Z",
     "shell.execute_reply": "2025-02-13T19:49:28.432259Z"
    },
    "papermill": {
     "duration": 0.376082,
     "end_time": "2025-02-13T19:49:28.434979",
     "exception": false,
     "start_time": "2025-02-13T19:49:28.058897",
     "status": "completed"
    },
    "tags": []
   },
   "outputs": [
    {
     "data": {
      "image/png": "[encoded data removed]",
      "text/plain": [
       "<Figure size 640x480 with 2 Axes>"
      ]
     },
     "metadata": {},
     "output_type": "display_data"
    }
   ],
   "source": [
    "index = 0\n",
    "\n",
    "plt.imshow(training_images[index])\n",
    "plt.colorbar()\n",
    "plt.title(f'Label: {training_labels[index]}')\n",
    "plt.show()"
   ]
  },
  {
   "cell_type": "code",
   "execution_count": 6,
   "id": "4f0e9907",
   "metadata": {
    "execution": {
     "iopub.execute_input": "2025-02-13T19:49:28.445472Z",
     "iopub.status.busy": "2025-02-13T19:49:28.445105Z",
     "iopub.status.idle": "2025-02-13T19:49:28.694069Z",
     "shell.execute_reply": "2025-02-13T19:49:28.692962Z"
    },
    "papermill": {
     "duration": 0.256315,
     "end_time": "2025-02-13T19:49:28.696077",
     "exception": false,
     "start_time": "2025-02-13T19:49:28.439762",
     "status": "completed"
    },
    "tags": []
   },
   "outputs": [],
   "source": [
    "# Normalize the pixel values of the train and test images\n",
    "training_images = training_images / 255.0\n",
    "test_images = test_images / 255.0 "
   ]
  },
  {
   "cell_type": "code",
   "execution_count": 7,
   "id": "c76b9d1f",
   "metadata": {
    "execution": {
     "iopub.execute_input": "2025-02-13T19:49:28.706538Z",
     "iopub.status.busy": "2025-02-13T19:49:28.706208Z",
     "iopub.status.idle": "2025-02-13T19:49:28.788910Z",
     "shell.execute_reply": "2025-02-13T19:49:28.787873Z"
    },
    "papermill": {
     "duration": 0.090085,
     "end_time": "2025-02-13T19:49:28.790876",
     "exception": false,
     "start_time": "2025-02-13T19:49:28.700791",
     "status": "completed"
    },
    "tags": []
   },
   "outputs": [],
   "source": [
    "# Build the model\n",
    "model = tf.keras.models.Sequential([\n",
    "    tf.keras.Input(shape=(28,28)),\n",
    "    tf.keras.layers.Flatten(),\n",
    "    tf.keras.layers.Dense(128, activation = tf.nn.relu),\n",
    "    tf.keras.layers.Dense(10, activation = tf.nn.softmax)\n",
    "])"
   ]
  },
  {
   "cell_type": "code",
   "execution_count": 8,
   "id": "c18cb906",
   "metadata": {
    "execution": {
     "iopub.execute_input": "2025-02-13T19:49:28.801556Z",
     "iopub.status.busy": "2025-02-13T19:49:28.801234Z",
     "iopub.status.idle": "2025-02-13T19:49:28.817363Z",
     "shell.execute_reply": "2025-02-13T19:49:28.816522Z"
    },
    "papermill": {
     "duration": 0.023499,
     "end_time": "2025-02-13T19:49:28.819114",
     "exception": false,
     "start_time": "2025-02-13T19:49:28.795615",
     "status": "completed"
    },
    "tags": []
   },
   "outputs": [],
   "source": [
    "model.compile(\n",
    "    optimizer = tf.optimizers.Adam(),\n",
    "    loss = 'sparse_categorical_crossentropy',\n",
    "    metrics = ['accuracy']\n",
    ")"
   ]
  },
  {
   "cell_type": "code",
   "execution_count": 9,
   "id": "02b3dc30",
   "metadata": {
    "execution": {
     "iopub.execute_input": "2025-02-13T19:49:28.829757Z",
     "iopub.status.busy": "2025-02-13T19:49:28.829376Z",
     "iopub.status.idle": "2025-02-13T19:49:53.740866Z",
     "shell.execute_reply": "2025-02-13T19:49:53.739891Z"
    },
    "papermill": {
     "duration": 24.918638,
     "end_time": "2025-02-13T19:49:53.742499",
     "exception": false,
     "start_time": "2025-02-13T19:49:28.823861",
     "status": "completed"
    },
    "tags": []
   },
   "outputs": [
    {
     "name": "stdout",
     "output_type": "stream",
     "text": [
      "Epoch 1/5\n",
      "\u001b[1m1875/1875\u001b[0m \u001b[32m━━━━━━━━━━━━━━━━━━━━\u001b[0m\u001b[37m\u001b[0m \u001b[1m6s\u001b[0m 2ms/step - accuracy: 0.7706 - loss: 0.6522\n",
      "Epoch 2/5\n",
      "\u001b[1m1875/1875\u001b[0m \u001b[32m━━━━━━━━━━━━━━━━━━━━\u001b[0m\u001b[37m\u001b[0m \u001b[1m5s\u001b[0m 2ms/step - accuracy: 0.8610 - loss: 0.3897\n",
      "Epoch 3/5\n",
      "\u001b[1m1875/1875\u001b[0m \u001b[32m━━━━━━━━━━━━━━━━━━━━\u001b[0m\u001b[37m\u001b[0m \u001b[1m5s\u001b[0m 2ms/step - accuracy: 0.8729 - loss: 0.3444\n",
      "Epoch 4/5\n",
      "\u001b[1m1875/1875\u001b[0m \u001b[32m━━━━━━━━━━━━━━━━━━━━\u001b[0m\u001b[37m\u001b[0m \u001b[1m5s\u001b[0m 2ms/step - accuracy: 0.8837 - loss: 0.3141\n",
      "Epoch 5/5\n",
      "\u001b[1m1875/1875\u001b[0m \u001b[32m━━━━━━━━━━━━━━━━━━━━\u001b[0m\u001b[37m\u001b[0m \u001b[1m5s\u001b[0m 3ms/step - accuracy: 0.8879 - loss: 0.2979\n"
     ]
    },
    {
     "data": {
      "text/plain": [
       "<keras.src.callbacks.history.History at 0x7f080a584ac0>"
      ]
     },
     "execution_count": 9,
     "metadata": {},
     "output_type": "execute_result"
    }
   ],
   "source": [
    "model.fit(\n",
    "    training_images,\n",
    "    training_labels,\n",
    "    epochs=5\n",
    ")"
   ]
  },
  {
   "cell_type": "code",
   "execution_count": 10,
   "id": "e57ec8d4",
   "metadata": {
    "execution": {
     "iopub.execute_input": "2025-02-13T19:49:53.806523Z",
     "iopub.status.busy": "2025-02-13T19:49:53.806171Z",
     "iopub.status.idle": "2025-02-13T19:49:54.499503Z",
     "shell.execute_reply": "2025-02-13T19:49:54.498131Z"
    },
    "papermill": {
     "duration": 0.72684,
     "end_time": "2025-02-13T19:49:54.501315",
     "exception": false,
     "start_time": "2025-02-13T19:49:53.774475",
     "status": "completed"
    },
    "tags": []
   },
   "outputs": [
    {
     "name": "stdout",
     "output_type": "stream",
     "text": [
      "\u001b[1m313/313\u001b[0m \u001b[32m━━━━━━━━━━━━━━━━━━━━\u001b[0m\u001b[37m\u001b[0m \u001b[1m1s\u001b[0m 1ms/step - accuracy: 0.8747 - loss: 0.3410\n",
      "Loss: 0.3447\n",
      "Accuracy: 0.8736\n"
     ]
    }
   ],
   "source": [
    "# Evaluate the model on unseen data\n",
    "loss, accuracy = model.evaluate(\n",
    "    test_images,\n",
    "    test_labels\n",
    ")\n",
    "\n",
    "print(f'Loss: {loss:.4f}\\nAccuracy: {accuracy:.4f}')"
   ]
  },
  {
   "cell_type": "code",
   "execution_count": 11,
   "id": "4a41ad8a",
   "metadata": {
    "execution": {
     "iopub.execute_input": "2025-02-13T19:49:54.565123Z",
     "iopub.status.busy": "2025-02-13T19:49:54.564673Z",
     "iopub.status.idle": "2025-02-13T19:49:55.293774Z",
     "shell.execute_reply": "2025-02-13T19:49:55.292528Z"
    },
    "papermill": {
     "duration": 0.762857,
     "end_time": "2025-02-13T19:49:55.295572",
     "exception": false,
     "start_time": "2025-02-13T19:49:54.532715",
     "status": "completed"
    },
    "tags": []
   },
   "outputs": [
    {
     "name": "stdout",
     "output_type": "stream",
     "text": [
      "\u001b[1m313/313\u001b[0m \u001b[32m━━━━━━━━━━━━━━━━━━━━\u001b[0m\u001b[37m\u001b[0m \u001b[1m0s\u001b[0m 1ms/step\n"
     ]
    }
   ],
   "source": [
    "classifications = model.predict(test_images)"
   ]
  },
  {
   "cell_type": "code",
   "execution_count": 12,
   "id": "90fad250",
   "metadata": {
    "execution": {
     "iopub.execute_input": "2025-02-13T19:49:55.361298Z",
     "iopub.status.busy": "2025-02-13T19:49:55.360940Z",
     "iopub.status.idle": "2025-02-13T19:49:55.556634Z",
     "shell.execute_reply": "2025-02-13T19:49:55.555528Z"
    },
    "papermill": {
     "duration": 0.230704,
     "end_time": "2025-02-13T19:49:55.558317",
     "exception": false,
     "start_time": "2025-02-13T19:49:55.327613",
     "status": "completed"
    },
    "tags": []
   },
   "outputs": [
    {
     "name": "stdout",
     "output_type": "stream",
     "text": [
      "Predicted: 9 with 96.71% certainty\n"
     ]
    },
    {
     "data": {
      "image/png": "[encoded data removed]",
      "text/plain": [
       "<Figure size 640x480 with 1 Axes>"
      ]
     },
     "metadata": {},
     "output_type": "display_data"
    }
   ],
   "source": [
    "index = 0\n",
    "\n",
    "real_label = test_labels[index]\n",
    "predicted_label = classifications[index].argmax()\n",
    "predicted_probability = classifications[index][predicted_label]\n",
    "\n",
    "print(f'Predicted: {predicted_label} with {predicted_probability*100:.2f}% certainty')\n",
    "\n",
    "plt.imshow(test_images[index])\n",
    "plt.title(f'Label: {real_label}')\n",
    "plt.show()"
   ]
  }
 ],
 "metadata": {
  "kaggle": {
   "accelerator": "none",
   "dataSources": [],
   "dockerImageVersionId": 30886,
   "isGpuEnabled": false,
   "isInternetEnabled": true,
   "language": "python",
   "sourceType": "notebook"
  },
  "kernelspec": {
   "display_name": "Python 3",
   "language": "python",
   "name": "python3"
  },
  "language_info": {
   "codemirror_mode": {
    "name": "ipython",
    "version": 3
   },
   "file_extension": ".py",
   "mimetype": "text/x-python",
   "name": "python",
   "nbconvert_exporter": "python",
   "pygments_lexer": "ipython3",
   "version": "3.10.12"
  },
  "papermill": {
   "default_parameters": {},
   "duration": 48.943668,
   "end_time": "2025-02-13T19:49:57.216978",
   "environment_variables": {},
   "exception": null,
   "input_path": "__notebook__.ipynb",
   "output_path": "__notebook__.ipynb",
   "parameters": {},
   "start_time": "2025-02-13T19:49:08.273310",
   "version": "2.6.0"
  }
 },
 "nbformat": 4,
 "nbformat_minor": 5
}
